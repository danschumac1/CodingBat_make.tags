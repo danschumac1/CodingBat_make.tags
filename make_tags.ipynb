{
 "cells": [
  {
   "cell_type": "markdown",
   "id": "11666d9b",
   "metadata": {},
   "source": [
    "# String-1 > make_tags"
   ]
  },
  {
   "cell_type": "markdown",
   "id": "92a61f1a",
   "metadata": {},
   "source": [
    "The web is built with HTML strings like \"<i>Yay</i>\" which draws Yay as italic text. In this example, the \"i\" tag makes <i> and </i> which surround the word \"Yay\". Given tag and word strings, create the HTML string with tags around the word, e.g. \"<i>Yay</i>\".\n",
    "\n",
    "\n",
    "make_tags('i', 'Yay') → '<i>Yay</i>'\n",
    "make_tags('i', 'Hello') → '<i>Hello</i>'\n",
    "make_tags('cite', 'Yay') → '<cite>Yay</cite>'"
   ]
  },
  {
   "cell_type": "code",
   "execution_count": 1,
   "id": "a596f7d6",
   "metadata": {},
   "outputs": [],
   "source": [
    "def make_tags(tag, word):\n",
    "  return '<' + tag + '>' + word + '</' + tag + '>'\n"
   ]
  }
 ],
 "metadata": {
  "kernelspec": {
   "display_name": "Python 3 (ipykernel)",
   "language": "python",
   "name": "python3"
  },
  "language_info": {
   "codemirror_mode": {
    "name": "ipython",
    "version": 3
   },
   "file_extension": ".py",
   "mimetype": "text/x-python",
   "name": "python",
   "nbconvert_exporter": "python",
   "pygments_lexer": "ipython3",
   "version": "3.9.12"
  }
 },
 "nbformat": 4,
 "nbformat_minor": 5
}
